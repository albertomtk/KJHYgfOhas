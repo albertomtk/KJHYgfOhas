{
 "cells": [
  {
   "cell_type": "markdown",
   "metadata": {},
   "source": [
    "# Orthogonal Convolutions\n",
    "\n",
    "The aim of this notebook is to present the main results of the paper: \"Long range integration in neural networks with orthogonal convolutions\".\n",
    "\n",
    "It is divided in three main sections corresponding to the three main experiments studied in the paper.\n",
    "- CIFAR-10\n",
    "- Receptive fields\n",
    "- Pathfinder\n",
    "\n",
    "In each section, the user can load a pre-trained model and evaluate its performance.\n",
    "A few of the models showed in the paper are available in this repository, one for each set of parameters.\n",
    "This notebook is intended be used for evaluation only, not for training. \n",
    "\n",
    "Note that the code runs on GPU."
   ]
  },
  {
   "cell_type": "markdown",
   "metadata": {},
   "source": [
    "CHECK THIS. Please not that the orthogonal convolution cycle is defined expicitly for the cifar models, this means that printing the mode.summary() you can observe the sequence of convolution and permutations; for the pathfinder models, instead, the cycles was wrapped in the \"NetXCycle\" layer for tidiness. The cifar model were defined explicitly to allow the sensitivity maps to investigate more in detail the receptive field beavhoir at the different stages of the network."
   ]
  },
  {
   "cell_type": "markdown",
   "metadata": {},
   "source": [
    "### Imports and setting up the environement"
   ]
  },
  {
   "cell_type": "code",
   "execution_count": 1,
   "metadata": {},
   "outputs": [],
   "source": [
    "import tensorflow as tf\n",
    "from tensorflow.keras.models import load_model\n",
    "import matplotlib.pyplot as plt\n",
    "import numpy as np"
   ]
  },
  {
   "cell_type": "code",
   "execution_count": 2,
   "metadata": {},
   "outputs": [
    {
     "name": "stderr",
     "output_type": "stream",
     "text": [
      "WARNING: Logging before flag parsing goes to stderr.\n",
      "W0217 17:35:20.566132 140136620279616 deprecation_wrapper.py:119] From /tf/notebooks/sumbission-ICML/KJHYgfOhas/ICML-Submission/OrthogonalConv.py:4: The name tf.keras.initializers.RandomUniform is deprecated. Please use tf.compat.v1.keras.initializers.RandomUniform instead.\n",
      "\n"
     ]
    }
   ],
   "source": [
    "from BilinearInterpolate3D import BilinearInterpolate3D\n",
    "from OrthogonalConv import NetXCycle\n",
    "from utils import *\n",
    "from saliency import *"
   ]
  },
  {
   "cell_type": "code",
   "execution_count": 3,
   "metadata": {},
   "outputs": [
    {
     "data": {
      "text/plain": [
       "<tensorflow.python.client.session.Session at 0x7f73934c7978>"
      ]
     },
     "execution_count": 3,
     "metadata": {},
     "output_type": "execute_result"
    }
   ],
   "source": [
    "# Setting a GPU memory fraction used (if desired) to limit resource usage\n",
    "gpu_memory_fraction = 0.4\n",
    "gpu_options = tf.compat.v1.GPUOptions(per_process_gpu_memory_fraction=gpu_memory_fraction)\n",
    "tf.compat.v1.Session(config=tf.compat.v1.ConfigProto(gpu_options=gpu_options))"
   ]
  },
  {
   "cell_type": "code",
   "execution_count": 4,
   "metadata": {},
   "outputs": [],
   "source": [
    "# Set larger batch size to speed up evaluation times, or smaller to avoid OOM issues.\n",
    "BATCH_SIZE = 64"
   ]
  },
  {
   "cell_type": "markdown",
   "metadata": {},
   "source": [
    "## CIFAR-10\n",
    "\n",
    "- Load dataset\n",
    "- Load model\n",
    "- Show model summary\n",
    "- Evaluate model"
   ]
  },
  {
   "cell_type": "code",
   "execution_count": 6,
   "metadata": {},
   "outputs": [],
   "source": [
    "# Set dataset path and load dataset\n",
    "cifar_dataset_path = 'section_4.1/data/CIFAR-10_test.h5'\n",
    "x_test, y_test = read_h5_dataset(cifar_dataset_path)"
   ]
  },
  {
   "cell_type": "code",
   "execution_count": 7,
   "metadata": {
    "scrolled": false
   },
   "outputs": [
    {
     "name": "stderr",
     "output_type": "stream",
     "text": [
      "W0217 17:17:46.146376 139839225567040 deprecation.py:506] From /usr/local/lib/python3.6/dist-packages/tensorflow/python/ops/init_ops.py:97: calling VarianceScaling.__init__ (from tensorflow.python.ops.init_ops) with dtype is deprecated and will be removed in a future version.\n",
      "Instructions for updating:\n",
      "Call initializer instance with the dtype argument instead of passing it to the constructor\n",
      "W0217 17:17:46.146961 139839225567040 deprecation.py:506] From /usr/local/lib/python3.6/dist-packages/tensorflow/python/ops/init_ops.py:97: calling Zeros.__init__ (from tensorflow.python.ops.init_ops) with dtype is deprecated and will be removed in a future version.\n",
      "Instructions for updating:\n",
      "Call initializer instance with the dtype argument instead of passing it to the constructor\n",
      "W0217 17:17:46.150166 139839225567040 deprecation.py:506] From /usr/local/lib/python3.6/dist-packages/tensorflow/python/ops/init_ops.py:97: calling Ones.__init__ (from tensorflow.python.ops.init_ops) with dtype is deprecated and will be removed in a future version.\n",
      "Instructions for updating:\n",
      "Call initializer instance with the dtype argument instead of passing it to the constructor\n",
      "W0217 17:17:46.158393 139839225567040 deprecation.py:506] From /usr/local/lib/python3.6/dist-packages/tensorflow/python/ops/init_ops.py:97: calling GlorotUniform.__init__ (from tensorflow.python.ops.init_ops) with dtype is deprecated and will be removed in a future version.\n",
      "Instructions for updating:\n",
      "Call initializer instance with the dtype argument instead of passing it to the constructor\n",
      "W0217 17:17:46.291243 139839225567040 deprecation_wrapper.py:119] From /tf/notebooks/sumbission-ICML/KJHYgfOhas/ICML-Submission/BilinearInterpolate3D.py:20: The name tf.image.resize_bilinear is deprecated. Please use tf.compat.v1.image.resize_bilinear instead.\n",
      "\n"
     ]
    },
    {
     "name": "stdout",
     "output_type": "stream",
     "text": [
      "10000/10000 [==============================] - 1s 120us/sample - loss: 1.4755 - acc: 0.4735\n",
      "section_4.1/models/orthogonal_models/orthogonal_cifar10_depth3.h5\n",
      "[1.4755000730514527, 0.4735]\n",
      "10000/10000 [==============================] - 0s 45us/sample - loss: 1.0187 - acc: 0.6460\n",
      "section_4.1/models/orthogonal_models/orthogonal_cifar10_depth6.h5\n",
      "[1.0187474377632142, 0.646]\n",
      "10000/10000 [==============================] - 1s 76us/sample - loss: 0.7619 - acc: 0.7590\n",
      "section_4.1/models/orthogonal_models/orthogonal_cifar10_depth9.h5\n",
      "[0.7618837498664855, 0.759]\n",
      "10000/10000 [==============================] - 2s 157us/sample - loss: 0.5320 - acc: 0.8459\n",
      "section_4.1/models/orthogonal_models/orthogonal_cifar10_depth12.h5\n",
      "[0.5320310600280762, 0.8459]\n",
      "10000/10000 [==============================] - 4s 367us/sample - loss: 0.4886 - acc: 0.8788\n",
      "section_4.1/models/orthogonal_models/orthogonal_cifar10_depth15.h5\n",
      "[0.4885569083213806, 0.8788]\n",
      "10000/10000 [==============================] - 8s 831us/sample - loss: 0.4911 - acc: 0.8815\n",
      "section_4.1/models/orthogonal_models/orthogonal_cifar10_depth18.h5\n",
      "[0.4910502578735352, 0.8815]\n",
      "10000/10000 [==============================] - 1s 55us/sample - loss: 1.5254 - acc: 0.4537\n",
      "section_4.1/models/baseline_models/baseline_cifar10_depth3.h5\n",
      "[1.5253689292907715, 0.4537]\n",
      "10000/10000 [==============================] - 1s 62us/sample - loss: 1.0150 - acc: 0.6608\n",
      "section_4.1/models/baseline_models/baseline_cifar10_depth6.h5\n",
      "[1.015010247516632, 0.6608]\n",
      "10000/10000 [==============================] - 1s 87us/sample - loss: 0.7899 - acc: 0.7424\n",
      "section_4.1/models/baseline_models/baseline_cifar10_depth9.h5\n",
      "[0.7898951280593872, 0.7424]\n",
      "10000/10000 [==============================] - 1s 146us/sample - loss: 0.5965 - acc: 0.8192\n",
      "section_4.1/models/baseline_models/baseline_cifar10_depth12.h5\n",
      "[0.5964903197288514, 0.8192]\n",
      "10000/10000 [==============================] - 3s 306us/sample - loss: 0.5141 - acc: 0.8590\n",
      "section_4.1/models/baseline_models/baseline_cifar10_depth15.h5\n",
      "[0.5140710183858871, 0.859]\n",
      "10000/10000 [==============================] - 6s 643us/sample - loss: 0.5063 - acc: 0.8654\n",
      "section_4.1/models/baseline_models/baseline_cifar10_depth18.h5\n",
      "[0.5062635434150696, 0.8654]\n"
     ]
    }
   ],
   "source": [
    "models = [\"orthogonal\", \"baseline\"]\n",
    "depths = [\"3\", \"6\", \"9\", \"12\", \"15\", \"18\"]\n",
    "# Set model path and load model\n",
    "for model in models:\n",
    "    for depth in depths:\n",
    "        cifar_model_path = 'section_4.1/models/'+model+'_models/'+model+'_cifar10_depth'+depth+'.h5'\n",
    "        cifar_model = load_model(cifar_model_path, custom_objects={'BilinearInterpolate3D': BilinearInterpolate3D})\n",
    "        \n",
    "        # Evaluating \n",
    "        scores = cifar_model.evaluate(x_test, y_test, batch_size=BATCH_SIZE)\n",
    "        print(cifar_model_path)\n",
    "        print(scores)"
   ]
  },
  {
   "cell_type": "code",
   "execution_count": null,
   "metadata": {},
   "outputs": [],
   "source": [
    "cifar_model_path = 'section_4.1/models/orthogonal_models/orthogonal_cifar10_depth9.h5'\n",
    "cifar_model = load_model(cifar_model_path, custom_objects={'BilinearInterpolate3D': BilinearInterpolate3D})"
   ]
  },
  {
   "cell_type": "code",
   "execution_count": 47,
   "metadata": {},
   "outputs": [],
   "source": [
    "# Print model summary\n",
    "cifar_model.summary()"
   ]
  },
  {
   "cell_type": "code",
   "execution_count": 48,
   "metadata": {},
   "outputs": [
    {
     "name": "stdout",
     "output_type": "stream",
     "text": [
      "10000/10000 [==============================] - 1s 150us/sample - loss: 1.4755 - acc: 0.4735\n"
     ]
    }
   ],
   "source": [
    "# Evaluating \n",
    "scores = cifar_model.evaluate(x_test, y_test, batch_size=BATCH_SIZE)"
   ]
  },
  {
   "cell_type": "markdown",
   "metadata": {},
   "source": [
    "## Receptive fields plots\n",
    "- Load and scale a sample image\n",
    "- Choose layer list and number of nodes to sample\n",
    "- Plot receptive field"
   ]
  },
  {
   "cell_type": "code",
   "execution_count": 10,
   "metadata": {},
   "outputs": [
    {
     "data": {
      "text/plain": [
       "<matplotlib.image.AxesImage at 0x7f8e4065be48>"
      ]
     },
     "execution_count": 10,
     "metadata": {},
     "output_type": "execute_result"
    },
    {
     "data": {
      "image/png": "[encoded data removed]",
      "text/plain": [
       "<Figure size 432x288 with 1 Axes>"
      ]
     },
     "metadata": {
      "needs_background": "light"
     },
     "output_type": "display_data"
    }
   ],
   "source": [
    "# Load and scale a sample image\n",
    "image_index = np.random.randint(0, x_test.shape[0]-1)\n",
    "image = x_test[image_index]\n",
    "plt.imshow((image * NORMALIZING_CONST + CENTRALIZING_CONST)/QUANTIZATION_SIZE)"
   ]
  },
  {
   "cell_type": "markdown",
   "metadata": {},
   "source": [
    "# ADD A BRIEF EXAMPLE THAT SAYS HOW TO COUNT LAYERS AND WHAT THEY MEAN"
   ]
  },
  {
   "cell_type": "code",
   "execution_count": 11,
   "metadata": {},
   "outputs": [],
   "source": [
    "# Choose layer list and number of nodes to sample\n",
    "no_of_nodes = 3\n",
    "layer_list = [2, 70]   # Add instructions on which layer is being checked\n",
    "saliency = get_saliency_maps_and_fitted_ellipses(cifar_model, layer_list, no_of_nodes, image)"
   ]
  },
  {
   "cell_type": "code",
   "execution_count": 12,
   "metadata": {},
   "outputs": [
    {
     "data": {
      "image/png": "[encoded data removed]",
      "text/plain": [
       "<Figure size 576x576 with 6 Axes>"
      ]
     },
     "metadata": {
      "needs_background": "light"
     },
     "output_type": "display_data"
    }
   ],
   "source": [
    "# Plot receptive field. If a node is deactivated, a blank image will be displayed.\n",
    "print_images(*saliency)"
   ]
  },
  {
   "cell_type": "markdown",
   "metadata": {},
   "source": [
    "# ADD LABELS AND DESCRIPTION OF THE IMAGES"
   ]
  },
  {
   "cell_type": "markdown",
   "metadata": {},
   "source": [
    "## Receptive fields stats\n",
    "- Choose a layer and number of nodes and images to sample.\n",
    "- Compute and display receptive field statistics. Deactivated nodes do not participate in the statistics."
   ]
  },
  {
   "cell_type": "code",
   "execution_count": 13,
   "metadata": {},
   "outputs": [],
   "source": [
    "# Set variables controlling layer number, number of images, number of nodes and image indices.\n",
    "layer = 42\n",
    "no_of_images = 2\n",
    "no_of_nodes = 2\n",
    "image_indices = np.random.randint(0, x_test.shape[0]-1, size=no_of_images)"
   ]
  },
  {
   "cell_type": "code",
   "execution_count": 14,
   "metadata": {
    "scrolled": true
   },
   "outputs": [
    {
     "name": "stdout",
     "output_type": "stream",
     "text": [
      "Mean: 2.6519634851495795\n",
      "Std: 0.15875380807346806\n"
     ]
    }
   ],
   "source": [
    "# Compute statistics \n",
    "sqrt_traces = get_saliency_stats(cifar_model, layer, no_of_nodes, x_test[image_indices])\n",
    "print(\"Mean:\", np.mean(sqrt_traces))\n",
    "print(\"Std:\", np.std(sqrt_traces))"
   ]
  },
  {
   "cell_type": "markdown",
   "metadata": {},
   "source": [
    "# ADD INTERPRETATION/EXPLANATION OF THE STATISTICS?"
   ]
  },
  {
   "cell_type": "markdown",
   "metadata": {},
   "source": [
    "## Pathfinder\n",
    "\n",
    "The orginal test dataset included 100000 images, following the test-training split of the original pathfinder paper [https://arxiv.org/pdf/1805.08315.pdf]. To prevent possible memory problems that the user my encounter while loading the data, here we provide a subset of 10000 random images of the test data employed for the evaluation. This number of samples should be sufficient for statistically significant evaluation. \n",
    "\n",
    "- Load dataset\n",
    "- Load model from a directory\n",
    "- (Optional) For large models of kernel size 20, run a script to untar and reconstruct the model.\n",
    "- Load model\n",
    "- Show model summary\n",
    "- Evaluate model"
   ]
  },
  {
   "cell_type": "code",
   "execution_count": 5,
   "metadata": {},
   "outputs": [],
   "source": [
    "pathfinder_dataset_path = 'section_4.5/data/pathfinder_path9_test.h5'\n",
    "x_test, y_test = read_h5_dataset(pathfinder_dataset_path, scale = False)"
   ]
  },
  {
   "cell_type": "code",
   "execution_count": 6,
   "metadata": {},
   "outputs": [
    {
     "name": "stderr",
     "output_type": "stream",
     "text": [
      "W0217 17:35:29.770341 140136620279616 deprecation.py:506] From /usr/local/lib/python3.6/dist-packages/tensorflow/python/ops/init_ops.py:97: calling GlorotUniform.__init__ (from tensorflow.python.ops.init_ops) with dtype is deprecated and will be removed in a future version.\n",
      "Instructions for updating:\n",
      "Call initializer instance with the dtype argument instead of passing it to the constructor\n",
      "W0217 17:35:29.770952 140136620279616 deprecation.py:506] From /usr/local/lib/python3.6/dist-packages/tensorflow/python/ops/init_ops.py:1251: calling VarianceScaling.__init__ (from tensorflow.python.ops.init_ops) with dtype is deprecated and will be removed in a future version.\n",
      "Instructions for updating:\n",
      "Call initializer instance with the dtype argument instead of passing it to the constructor\n",
      "W0217 17:35:29.771546 140136620279616 deprecation.py:506] From /usr/local/lib/python3.6/dist-packages/tensorflow/python/ops/init_ops.py:97: calling Zeros.__init__ (from tensorflow.python.ops.init_ops) with dtype is deprecated and will be removed in a future version.\n",
      "Instructions for updating:\n",
      "Call initializer instance with the dtype argument instead of passing it to the constructor\n",
      "W0217 17:35:29.774468 140136620279616 deprecation.py:506] From /usr/local/lib/python3.6/dist-packages/tensorflow/python/ops/init_ops.py:97: calling Ones.__init__ (from tensorflow.python.ops.init_ops) with dtype is deprecated and will be removed in a future version.\n",
      "Instructions for updating:\n",
      "Call initializer instance with the dtype argument instead of passing it to the constructor\n",
      "W0217 17:35:30.597866 140136620279616 deprecation.py:323] From /usr/local/lib/python3.6/dist-packages/tensorflow/python/ops/nn_impl.py:180: add_dispatch_support.<locals>.wrapper (from tensorflow.python.ops.array_ops) is deprecated and will be removed in a future version.\n",
      "Instructions for updating:\n",
      "Use tf.where in 2.0, which has the same broadcast rule as np.where\n"
     ]
    },
    {
     "name": "stdout",
     "output_type": "stream",
     "text": [
      "10000/10000 [==============================] - 19s 2ms/sample - loss: 0.2024 - acc: 0.9268\n",
      "section_4.5/models/orthogonal_models/orthogonal_pathfinder6_kernelsize4.h5\n",
      "[0.2023731444478035, 0.9268]\n",
      "10000/10000 [==============================] - 23s 2ms/sample - loss: 0.1133 - acc: 0.9621\n",
      "section_4.5/models/orthogonal_models/orthogonal_pathfinder6_kernelsize8.h5\n",
      "[0.11334960912615061, 0.9621]\n",
      "10000/10000 [==============================] - 29s 3ms/sample - loss: 0.1019 - acc: 0.9719\n",
      "section_4.5/models/orthogonal_models/orthogonal_pathfinder6_kernelsize12.h5\n",
      "[0.101897131652385, 0.9719]\n",
      "orthogonal_pathfinder6_kernelsize20.h5\n",
      "10000/10000 [==============================] - 52s 5ms/sample - loss: 0.0368 - acc: 0.9877\n",
      "section_4.5/models/orthogonal_models/orthogonal_pathfinder6_kernelsize20/orthogonal_pathfinder6_kernelsize20.h5\n",
      "[0.03684009488262236, 0.9877]\n",
      "10000/10000 [==============================] - 16s 2ms/sample - loss: 19.6777 - acc: 0.4972\n",
      "section_4.5/models/baseline_models/baseline_pathfinder6_kernelsize4.h5\n",
      "[19.67773349304199, 0.4972]\n",
      "10000/10000 [==============================] - 19s 2ms/sample - loss: 30.4891 - acc: 0.5028\n",
      "section_4.5/models/baseline_models/baseline_pathfinder6_kernelsize8.h5\n",
      "[30.48914442138672, 0.5028]\n",
      "10000/10000 [==============================] - 24s 2ms/sample - loss: 0.0124 - acc: 0.9974\n",
      "section_4.5/models/baseline_models/baseline_pathfinder6_kernelsize12.h5\n",
      "[0.012350776777282345, 0.9974]\n",
      "baseline_pathfinder6_kernelsize20.h5\n",
      "10000/10000 [==============================] - 42s 4ms/sample - loss: 0.0221 - acc: 0.9934\n",
      "section_4.5/models/baseline_models/baseline_pathfinder6_kernelsize20/baseline_pathfinder6_kernelsize20.h5\n",
      "[0.022114663433469833, 0.9934]\n",
      "10000/10000 [==============================] - 19s 2ms/sample - loss: 0.3802 - acc: 0.8362\n",
      "section_4.5/models/orthogonal_models/orthogonal_pathfinder9_kernelsize4.h5\n",
      "[0.38019565553665163, 0.8362]\n",
      "10000/10000 [==============================] - 22s 2ms/sample - loss: 0.2660 - acc: 0.8902\n",
      "section_4.5/models/orthogonal_models/orthogonal_pathfinder9_kernelsize8.h5\n",
      "[0.2660007672905922, 0.8902]\n",
      "10000/10000 [==============================] - 27s 3ms/sample - loss: 0.1881 - acc: 0.9288\n",
      "section_4.5/models/orthogonal_models/orthogonal_pathfinder9_kernelsize12.h5\n",
      "[0.18807895991802215, 0.9288]\n",
      "orthogonal_pathfinder9_kernelsize20.h5\n",
      "10000/10000 [==============================] - 45s 4ms/sample - loss: 0.3134 - acc: 0.8681\n",
      "section_4.5/models/orthogonal_models/orthogonal_pathfinder9_kernelsize20/orthogonal_pathfinder9_kernelsize20.h5\n",
      "[0.3133905957937241, 0.8681]\n",
      "10000/10000 [==============================] - 16s 2ms/sample - loss: 13.7735 - acc: 0.4988\n",
      "section_4.5/models/baseline_models/baseline_pathfinder9_kernelsize4.h5\n",
      "[13.773527740478515, 0.4988]\n",
      "10000/10000 [==============================] - 19s 2ms/sample - loss: 27.3812 - acc: 0.5012\n",
      "section_4.5/models/baseline_models/baseline_pathfinder9_kernelsize8.h5\n",
      "[27.381222186279295, 0.5012]\n",
      "10000/10000 [==============================] - 33s 3ms/sample - loss: 7.7310 - acc: 0.4988\n",
      "section_4.5/models/baseline_models/baseline_pathfinder9_kernelsize12.h5\n",
      "[7.73098416595459, 0.4988]\n",
      "baseline_pathfinder9_kernelsize20.h5\n",
      "10000/10000 [==============================] - 42s 4ms/sample - loss: 0.0274 - acc: 0.9906\n",
      "section_4.5/models/baseline_models/baseline_pathfinder9_kernelsize20/baseline_pathfinder9_kernelsize20.h5\n",
      "[0.027358904012292625, 0.9906]\n",
      "10000/10000 [==============================] - 19s 2ms/sample - loss: 0.5597 - acc: 0.7069\n",
      "section_4.5/models/orthogonal_models/orthogonal_pathfinder14_kernelsize4.h5\n",
      "[0.5596664132118225, 0.7069]\n",
      "10000/10000 [==============================] - 22s 2ms/sample - loss: 0.4645 - acc: 0.7970\n",
      "section_4.5/models/orthogonal_models/orthogonal_pathfinder14_kernelsize8.h5\n",
      "[0.464462699508667, 0.797]\n",
      "10000/10000 [==============================] - 27s 3ms/sample - loss: 0.3685 - acc: 0.8337\n",
      "section_4.5/models/orthogonal_models/orthogonal_pathfinder14_kernelsize12.h5\n",
      "[0.3685138033866882, 0.8337]\n",
      "orthogonal_pathfinder14_kernelsize20.h5\n",
      "10000/10000 [==============================] - 45s 4ms/sample - loss: 0.5683 - acc: 0.7295\n",
      "section_4.5/models/orthogonal_models/orthogonal_pathfinder14_kernelsize20/orthogonal_pathfinder14_kernelsize20.h5\n",
      "[0.5683274342536926, 0.7295]\n",
      "10000/10000 [==============================] - 16s 2ms/sample - loss: 30.0532 - acc: 0.5022\n",
      "section_4.5/models/baseline_models/baseline_pathfinder14_kernelsize4.h5\n",
      "[30.053223779296875, 0.5022]\n",
      "10000/10000 [==============================] - 19s 2ms/sample - loss: 14.9192 - acc: 0.4978\n",
      "section_4.5/models/baseline_models/baseline_pathfinder14_kernelsize8.h5\n",
      "[14.919195379638673, 0.4978]\n",
      "10000/10000 [==============================] - 24s 2ms/sample - loss: 18.5796 - acc: 0.5022\n",
      "section_4.5/models/baseline_models/baseline_pathfinder14_kernelsize12.h5\n",
      "[18.57960832824707, 0.5022]\n",
      "baseline_pathfinder14_kernelsize20.h5\n",
      "10000/10000 [==============================] - 42s 4ms/sample - loss: 0.4309 - acc: 0.8041\n",
      "section_4.5/models/baseline_models/baseline_pathfinder14_kernelsize20/baseline_pathfinder14_kernelsize20.h5\n",
      "[0.4309370630264282, 0.8041]\n"
     ]
    }
   ],
   "source": [
    "# Specify dataset folder and load dataset\n",
    "models = [\"orthogonal\", \"baseline\"]\n",
    "pathfinders = [\"6\", \"9\", \"14\"]\n",
    "kernels = [\"4\", \"8\", \"12\", \"20\"]\n",
    "# Set model path and load model\n",
    "for pathfinder in pathfinders:\n",
    "    pathfinder_dataset_path = 'section_4.5/data/pathfinder_path'+pathfinder+'_test.h5'\n",
    "    x_test, y_test = read_h5_dataset(pathfinder_dataset_path, scale = False)\n",
    "    for model in models:\n",
    "        for kernel in kernels:\n",
    "            pathfinder_model_path = 'section_4.5/models/'+model+'_models/'+model+'_pathfinder'+pathfinder+'_kernelsize'+kernel\n",
    "            if kernel==\"20\":\n",
    "                !sh untar.sh $pathfinder_model_path\n",
    "                a = !ls $pathfinder_model_path\n",
    "                model = [i for i in a if i.find('.h5') != -1][0]\n",
    "                pathfinder_model_path = pathfinder_model_path + '/' + model\n",
    "            else:\n",
    "                pathfinder_model_path += '.h5'\n",
    "            \n",
    "            # Load model\n",
    "            pathfinder_model = load_model(pathfinder_model_path, custom_objects={'BilinearInterpolate3D':BilinearInterpolate3D,\n",
    "                                                                                 'NetXCycle': NetXCycle})\n",
    "            # Remove extracted model file if required\n",
    "            if kernel==\"20\":\n",
    "                !rm $pathfinder_model_path \n",
    "    \n",
    "            # Evaluating \n",
    "            scores = pathfinder_model.evaluate(x_test, y_test, batch_size=BATCH_SIZE)\n",
    "            print(pathfinder_model_path)\n",
    "            print(scores)"
   ]
  },
  {
   "cell_type": "code",
   "execution_count": 7,
   "metadata": {},
   "outputs": [],
   "source": [
    "# Specify the model path (either directory or h5 file) - no trailing `/` for kernel size 20, otherwise the .h5 file directly\n",
    "pathfinder_model_path = 'section_4.5/models/orthogonal_models/orthogonal_pathfinder9_kernelsize20'"
   ]
  },
  {
   "cell_type": "code",
   "execution_count": 8,
   "metadata": {},
   "outputs": [
    {
     "name": "stdout",
     "output_type": "stream",
     "text": [
      "orthogonal_pathfinder9_kernelsize20.h5\r\n"
     ]
    }
   ],
   "source": [
    "# Identify if the path given identifies a h5 file or a directory requiring untarring\n",
    "# If untarring required, extract model and update model path to extracted h5 file\n",
    "untar = not bool(pathfinder_model_path.find('.h5')+1)\n",
    "if untar:\n",
    "    !sh untar.sh $pathfinder_model_path\n",
    "    a = !ls $pathfinder_model_path\n",
    "    model = [i for i in a if i.find('.h5') != -1][0]\n",
    "    pathfinder_model_path = pathfinder_model_path + '/' + model"
   ]
  },
  {
   "cell_type": "code",
   "execution_count": 9,
   "metadata": {},
   "outputs": [],
   "source": [
    "# Load model\n",
    "pathfinder_model = load_model(pathfinder_model_path, custom_objects={'BilinearInterpolate3D':BilinearInterpolate3D,\n",
    "                                                                     'NetXCycle': NetXCycle})\n",
    "# Remove extracted model file if required\n",
    "if untar:\n",
    "    !rm $pathfinder_model_path"
   ]
  },
  {
   "cell_type": "code",
   "execution_count": 10,
   "metadata": {
    "scrolled": false
   },
   "outputs": [
    {
     "name": "stdout",
     "output_type": "stream",
     "text": [
      "Model: \"model\"\n",
      "_________________________________________________________________\n",
      "Layer (type)                 Output Shape              Param #   \n",
      "=================================================================\n",
      "input_1 (InputLayer)         [(None, 128, 128, 1)]     0         \n",
      "_________________________________________________________________\n",
      "conv2d (Conv2D)              (None, 128, 128, 128)     51328     \n",
      "_________________________________________________________________\n",
      "batch_normalization_v1 (Batc (None, 128, 128, 128)     512       \n",
      "_________________________________________________________________\n",
      "activation (Activation)      (None, 128, 128, 128)     0         \n",
      "_________________________________________________________________\n",
      "net_x_cycle (NetXCycle)      (None, 128, 128, 128)     19662720  \n",
      "_________________________________________________________________\n",
      "global_max_pooling2d (Global (None, 128)               0         \n",
      "_________________________________________________________________\n",
      "flatten (Flatten)            (None, 128)               0         \n",
      "_________________________________________________________________\n",
      "dense (Dense)                (None, 1)                 129       \n",
      "_________________________________________________________________\n",
      "activation_2 (Activation)    (None, 1)                 0         \n",
      "=================================================================\n",
      "Total params: 19,714,689\n",
      "Trainable params: 19,713,665\n",
      "Non-trainable params: 1,024\n",
      "_________________________________________________________________\n"
     ]
    }
   ],
   "source": [
    "# Print model summary\n",
    "pathfinder_model.summary()"
   ]
  },
  {
   "cell_type": "code",
   "execution_count": 11,
   "metadata": {},
   "outputs": [
    {
     "name": "stdout",
     "output_type": "stream",
     "text": [
      "10000/10000 [==============================] - 45s 4ms/sample - loss: 3.3627 - acc: 0.4966\n"
     ]
    }
   ],
   "source": [
    "# Evaluating \n",
    "scores = pathfinder_model.evaluate(x_test, y_test, batch_size=BATCH_SIZE)"
   ]
  },
  {
   "cell_type": "code",
   "execution_count": null,
   "metadata": {},
   "outputs": [],
   "source": []
  }
 ],
 "metadata": {
  "kernelspec": {
   "display_name": "Python 3",
   "language": "python",
   "name": "python3"
  },
  "language_info": {
   "codemirror_mode": {
    "name": "ipython",
    "version": 3
   },
   "file_extension": ".py",
   "mimetype": "text/x-python",
   "name": "python",
   "nbconvert_exporter": "python",
   "pygments_lexer": "ipython3",
   "version": "3.6.8"
  }
 },
 "nbformat": 4,
 "nbformat_minor": 4
}
